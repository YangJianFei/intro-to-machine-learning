{
 "cells": [
  {
   "cell_type": "code",
   "execution_count": null,
   "metadata": {
    "collapsed": true
   },
   "outputs": [],
   "source": [
    "def activate(number):\n",
    "    if number > 0:\n",
    "        return 1\n",
    "    else:\n",
    "        return -1"
   ]
  },
  {
   "cell_type": "code",
   "execution_count": null,
   "metadata": {
    "collapsed": true
   },
   "outputs": [],
   "source": [
    "def feedforward(inputs, weights):\n",
    "    total = 0\n",
    "    for index, each in enumerate(inputs):\n",
    "        total += each * weights[index]\n",
    "\n",
    "    return activate(total)"
   ]
  },
  {
   "cell_type": "code",
   "execution_count": null,
   "metadata": {
    "collapsed": true
   },
   "outputs": [],
   "source": [
    "def train(inputs, desired, weights, learning_rate):\n",
    "    guess = feedforward(inputs, weights)\n",
    "    error = desired - guess\n",
    "    for index, each in enumerate(inputs):\n",
    "        weights[index] += learning_rate * error * each\n",
    "\n",
    "    return weights"
   ]
  },
  {
   "cell_type": "code",
   "execution_count": null,
   "metadata": {},
   "outputs": [],
   "source": [
    "learning_rate = 0.01\n",
    "weights = [\n",
    "    random.uniform(-1, 1),\n",
    "    random.uniform(-1, 1),\n",
    "    random.uniform(-1, 1)\n",
    "]\n",
    "inputs = [1, -3, 1]\n",
    "desired = -1\n",
    "\n",
    "new_weights = train(inputs, desired, weights, learning_rate)\n",
    "print(new_weights)"
   ]
  }
 ],
 "metadata": {
  "kernelspec": {
   "display_name": "Python 3",
   "language": "python",
   "name": "python3"
  },
  "language_info": {
   "codemirror_mode": {
    "name": "ipython",
    "version": 3
   },
   "file_extension": ".py",
   "mimetype": "text/x-python",
   "name": "python",
   "nbconvert_exporter": "python",
   "pygments_lexer": "ipython3",
   "version": "3.6.1"
  }
 },
 "nbformat": 4,
 "nbformat_minor": 2
}
